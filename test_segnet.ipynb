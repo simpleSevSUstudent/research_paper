{
 "cells": [
  {
   "cell_type": "code",
   "execution_count": 2,
   "id": "f40def93-00fe-4347-a4a8-05088ce7f8bc",
   "metadata": {},
   "outputs": [],
   "source": [
    "import numpy as np\n",
    "\n",
    "def calculate_metrics(true_masks, predicted_masks, threshold=0.5):\n",
    "    true_masks = np.asarray(true_masks, dtype=bool)\n",
    "    predicted_masks = np.asarray(predicted_masks > threshold, dtype=bool)\n",
    "    \n",
    "    # Приведение формы предсказанных масок к форме истинных масок, если необходимо\n",
    "    if predicted_masks.shape[-1] == 1:\n",
    "        predicted_masks = np.squeeze(predicted_masks, axis=-1)\n",
    "    \n",
    "    intersection = np.sum(np.logical_and(true_masks, predicted_masks))\n",
    "    union = np.sum(np.logical_or(true_masks, predicted_masks))\n",
    "    \n",
    "    # Dice Coefficient\n",
    "    dice = (2.0 * intersection) / (np.sum(true_masks) + np.sum(predicted_masks))\n",
    "    \n",
    "    # Precision\n",
    "    if np.sum(predicted_masks) != 0:\n",
    "        precision = intersection / np.sum(predicted_masks)\n",
    "    else:\n",
    "        precision = -1\n",
    "    \n",
    "    # IoU (Intersection over Union)\n",
    "    if union != 0:\n",
    "        iou = intersection / union\n",
    "    else:\n",
    "        iou = -1\n",
    "    \n",
    "    # Recall\n",
    "    recall = intersection / np.sum(true_masks)\n",
    "    \n",
    "    # F1-score\n",
    "    if precision + recall != 0:\n",
    "        f1_score = 2 * (precision * recall) / (precision + recall)\n",
    "    else:\n",
    "        f1_score = -1\n",
    "    \n",
    "    return dice, precision, iou, f1_score"
   ]
  },
  {
   "cell_type": "code",
   "execution_count": 3,
   "id": "50a3c760-e60d-466e-a713-59a30d89f089",
   "metadata": {},
   "outputs": [],
   "source": [
    "import os\n",
    "import cv2\n",
    "import numpy as np\n",
    "\n",
    "test_images_src = 'DIPLOMA/Dataset_for_test/images/'\n",
    "test_masks_src = 'DIPLOMA/Dataset_for_test/masks/'\n",
    "\n",
    "def load_masks_from_folder(folder):\n",
    "    images = []\n",
    "    for filename in os.listdir(folder):\n",
    "        img = cv2.imread(os.path.join(folder, filename), cv2.IMREAD_GRAYSCALE)\n",
    "        if img is not None:\n",
    "            images.append(img)\n",
    "    return images\n",
    "\n",
    "def load_images_from_folder(folder):\n",
    "    images = []\n",
    "    for filename in os.listdir(folder):\n",
    "        img = cv2.imread(os.path.join(folder, filename))\n",
    "        if img is not None:\n",
    "            images.append(img)\n",
    "    return images\n",
    "\n",
    "\n",
    "\n",
    "# Загрузка изображений и масок\n",
    "test_images = load_images_from_folder(test_images_src)\n",
    "true_masks = load_masks_from_folder(test_masks_src)\n",
    "\n",
    "true_masks = np.array(true_masks)\n",
    "test_images = np.array(test_images)"
   ]
  },
  {
   "cell_type": "code",
   "execution_count": 4,
   "id": "fbfb8264-a1c1-4ef0-b001-035fdd0379f9",
   "metadata": {},
   "outputs": [
    {
     "data": {
      "text/plain": [
       "(309, 309)"
      ]
     },
     "execution_count": 4,
     "metadata": {},
     "output_type": "execute_result"
    }
   ],
   "source": [
    "len(true_masks), len(test_images)"
   ]
  },
  {
   "cell_type": "code",
   "execution_count": 5,
   "id": "2b0b52ad-7610-4225-9ba4-294fd293389b",
   "metadata": {},
   "outputs": [
    {
     "data": {
      "text/plain": [
       "((309, 256, 256), (309, 256, 256, 3))"
      ]
     },
     "execution_count": 5,
     "metadata": {},
     "output_type": "execute_result"
    }
   ],
   "source": [
    "true_masks.shape, test_images.shape"
   ]
  },
  {
   "cell_type": "code",
   "execution_count": 6,
   "id": "cb9ff2c5-aec3-461f-8f33-cdc0ed579f22",
   "metadata": {},
   "outputs": [
    {
     "name": "stdout",
     "output_type": "stream",
     "text": [
      "Размерность массива предсказанных масок: (309, 256, 256, 2)\n"
     ]
    }
   ],
   "source": [
    "from keras.models import load_model\n",
    "import numpy as np\n",
    "\n",
    "model_path = \"segnet_256_auged.h5\"\n",
    "model = load_model(model_path)\n",
    "\n",
    "predicted_masks_list = []\n",
    "\n",
    "for image in test_images:\n",
    "    predicted_mask = model.predict(np.expand_dims(image, axis=0))\n",
    "    predicted_mask = np.squeeze(predicted_mask, axis=0)\n",
    "    predicted_masks_list.append(predicted_mask)\n",
    "    \n",
    "\n",
    "predicted_masks = np.array(predicted_masks_list)\n",
    "\n",
    "print(\"Размерность массива предсказанных масок:\", predicted_masks.shape)"
   ]
  },
  {
   "cell_type": "code",
   "execution_count": 7,
   "id": "d36ec157-6b0a-46ea-b664-99a524e5b691",
   "metadata": {},
   "outputs": [
    {
     "name": "stdout",
     "output_type": "stream",
     "text": [
      "Dice Coefficient: 0.5253069616237545\n",
      "Precision: 0.6532931022147103\n",
      "IoU: 0.3562144446020843\n",
      "F1-score: 0.5253069616237545\n"
     ]
    }
   ],
   "source": [
    "from keras.models import load_model\n",
    "\n",
    "predicted_masks = predicted_masks[:, :, :, 1]  # Используем только второй канал (например, для объекта)\n",
    "predicted_masks = np.round(predicted_masks)   # Преобразуем вероятности в бинарные значения\n",
    "\n",
    "# Проведём изучение метрик\n",
    "dice, precision, iou, f1_score = calculate_metrics(true_masks, predicted_masks)\n",
    "print(\"Dice Coefficient:\", dice)\n",
    "print(\"Precision:\", precision)\n",
    "print(\"IoU:\", iou)\n",
    "print(\"F1-score:\", f1_score)"
   ]
  },
  {
   "cell_type": "code",
   "execution_count": null,
   "id": "d8b1c2af-86cd-46e1-a56f-54f54e9666a0",
   "metadata": {},
   "outputs": [],
   "source": []
  }
 ],
 "metadata": {
  "kernelspec": {
   "display_name": "Python 3 (ipykernel)",
   "language": "python",
   "name": "python3"
  },
  "language_info": {
   "codemirror_mode": {
    "name": "ipython",
    "version": 3
   },
   "file_extension": ".py",
   "mimetype": "text/x-python",
   "name": "python",
   "nbconvert_exporter": "python",
   "pygments_lexer": "ipython3",
   "version": "3.9.18"
  }
 },
 "nbformat": 4,
 "nbformat_minor": 5
}
